{
  "nbformat": 4,
  "nbformat_minor": 0,
  "metadata": {
    "colab": {
      "name": "HackXplore 2021.ipynb",
      "provenance": [],
      "collapsed_sections": [],
      "include_colab_link": true
    },
    "kernelspec": {
      "name": "python3",
      "display_name": "Python 3"
    }
  },
  "cells": [
    {
      "cell_type": "markdown",
      "metadata": {
        "id": "view-in-github",
        "colab_type": "text"
      },
      "source": [
        "<a href=\"https://colab.research.google.com/github/Sophiii-HI/TechXplore-Hackathon-2021/blob/main/HackXplore_2021.ipynb\" target=\"_parent\"><img src=\"https://colab.research.google.com/assets/colab-badge.svg\" alt=\"Open In Colab\"/></a>"
      ]
    },
    {
      "cell_type": "markdown",
      "metadata": {
        "id": "G1zR-HU-9i-d"
      },
      "source": [
        "**Importing Libraries**"
      ]
    },
    {
      "cell_type": "code",
      "metadata": {
        "id": "Eon_0tq-9eZU"
      },
      "source": [
        "import pandas as pd\r\n",
        "import numpy as np\r\n",
        "import matplotlib.pyplot as plt\r\n",
        "import seaborn as sns"
      ],
      "execution_count": null,
      "outputs": []
    },
    {
      "cell_type": "markdown",
      "metadata": {
        "id": "byd6jJ3V9vRg"
      },
      "source": [
        "**Upload CSV**"
      ]
    },
    {
      "cell_type": "code",
      "metadata": {
        "colab": {
          "resources": {
            "http://localhost:8080/nbextensions/google.colab/files.js": {
              "data": "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",
              "ok": true,
              "headers": [
                [
                  "content-type",
                  "application/javascript"
                ]
              ],
              "status": 200,
              "status_text": ""
            }
          },
          "base_uri": "https://localhost:8080/",
          "height": 72
        },
        "id": "D0-nX4jlE5Ys",
        "outputId": "083fa5a5-1f95-4036-b6b8-e0479eae4525"
      },
      "source": [
        "from google.colab import files\r\n",
        "upload = files.upload()"
      ],
      "execution_count": null,
      "outputs": [
        {
          "output_type": "display_data",
          "data": {
            "text/html": [
              "\n",
              "     <input type=\"file\" id=\"files-f35477be-d4ec-486d-91b1-d9638a282dda\" name=\"files[]\" multiple disabled\n",
              "        style=\"border:none\" />\n",
              "     <output id=\"result-f35477be-d4ec-486d-91b1-d9638a282dda\">\n",
              "      Upload widget is only available when the cell has been executed in the\n",
              "      current browser session. Please rerun this cell to enable.\n",
              "      </output>\n",
              "      <script src=\"/nbextensions/google.colab/files.js\"></script> "
            ],
            "text/plain": [
              "<IPython.core.display.HTML object>"
            ]
          },
          "metadata": {
            "tags": []
          }
        },
        {
          "output_type": "stream",
          "text": [
            "Saving industry_weekly_2020.csv to industry_weekly_2020 (1).csv\n"
          ],
          "name": "stdout"
        }
      ]
    },
    {
      "cell_type": "code",
      "metadata": {
        "colab": {
          "base_uri": "https://localhost:8080/",
          "height": 589
        },
        "id": "l-c1HqZDAjxW",
        "outputId": "18328286-e22a-4047-8cf0-b36192c27fc6"
      },
      "source": [
        "df= pd.read_csv('industry_weekly_2020.csv')\r\n",
        "df"
      ],
      "execution_count": 208,
      "outputs": [
        {
          "output_type": "execute_result",
          "data": {
            "text/html": [
              "<div>\n",
              "<style scoped>\n",
              "    .dataframe tbody tr th:only-of-type {\n",
              "        vertical-align: middle;\n",
              "    }\n",
              "\n",
              "    .dataframe tbody tr th {\n",
              "        vertical-align: top;\n",
              "    }\n",
              "\n",
              "    .dataframe thead th {\n",
              "        text-align: right;\n",
              "    }\n",
              "</style>\n",
              "<table border=\"1\" class=\"dataframe\">\n",
              "  <thead>\n",
              "    <tr style=\"text-align: right;\">\n",
              "      <th></th>\n",
              "      <th>country_code</th>\n",
              "      <th>country</th>\n",
              "      <th>geography_code</th>\n",
              "      <th>geography</th>\n",
              "      <th>geography_type</th>\n",
              "      <th>group_code</th>\n",
              "      <th>group_name</th>\n",
              "      <th>group_type</th>\n",
              "      <th>start_date</th>\n",
              "      <th>end_date</th>\n",
              "      <th>job_postings_count</th>\n",
              "      <th>population</th>\n",
              "    </tr>\n",
              "  </thead>\n",
              "  <tbody>\n",
              "    <tr>\n",
              "      <th>0</th>\n",
              "      <td>AU</td>\n",
              "      <td>Australia</td>\n",
              "      <td>NaN</td>\n",
              "      <td>Adelaide</td>\n",
              "      <td>Metropolitan Area</td>\n",
              "      <td>H</td>\n",
              "      <td>Accommodation and Food Services</td>\n",
              "      <td>Industry</td>\n",
              "      <td>2020-01-05</td>\n",
              "      <td>2020-01-11</td>\n",
              "      <td>22</td>\n",
              "      <td>1345777.0</td>\n",
              "    </tr>\n",
              "    <tr>\n",
              "      <th>1</th>\n",
              "      <td>AU</td>\n",
              "      <td>Australia</td>\n",
              "      <td>NaN</td>\n",
              "      <td>Adelaide</td>\n",
              "      <td>Metropolitan Area</td>\n",
              "      <td>H</td>\n",
              "      <td>Accommodation and Food Services</td>\n",
              "      <td>Industry</td>\n",
              "      <td>2020-01-12</td>\n",
              "      <td>2020-01-18</td>\n",
              "      <td>32</td>\n",
              "      <td>1345777.0</td>\n",
              "    </tr>\n",
              "    <tr>\n",
              "      <th>2</th>\n",
              "      <td>AU</td>\n",
              "      <td>Australia</td>\n",
              "      <td>NaN</td>\n",
              "      <td>Adelaide</td>\n",
              "      <td>Metropolitan Area</td>\n",
              "      <td>H</td>\n",
              "      <td>Accommodation and Food Services</td>\n",
              "      <td>Industry</td>\n",
              "      <td>2020-01-19</td>\n",
              "      <td>2020-01-25</td>\n",
              "      <td>27</td>\n",
              "      <td>1345777.0</td>\n",
              "    </tr>\n",
              "    <tr>\n",
              "      <th>3</th>\n",
              "      <td>AU</td>\n",
              "      <td>Australia</td>\n",
              "      <td>NaN</td>\n",
              "      <td>Adelaide</td>\n",
              "      <td>Metropolitan Area</td>\n",
              "      <td>H</td>\n",
              "      <td>Accommodation and Food Services</td>\n",
              "      <td>Industry</td>\n",
              "      <td>2020-01-26</td>\n",
              "      <td>2020-02-01</td>\n",
              "      <td>19</td>\n",
              "      <td>1345777.0</td>\n",
              "    </tr>\n",
              "    <tr>\n",
              "      <th>4</th>\n",
              "      <td>AU</td>\n",
              "      <td>Australia</td>\n",
              "      <td>NaN</td>\n",
              "      <td>Adelaide</td>\n",
              "      <td>Metropolitan Area</td>\n",
              "      <td>H</td>\n",
              "      <td>Accommodation and Food Services</td>\n",
              "      <td>Industry</td>\n",
              "      <td>2020-02-02</td>\n",
              "      <td>2020-02-08</td>\n",
              "      <td>32</td>\n",
              "      <td>1345777.0</td>\n",
              "    </tr>\n",
              "    <tr>\n",
              "      <th>...</th>\n",
              "      <td>...</td>\n",
              "      <td>...</td>\n",
              "      <td>...</td>\n",
              "      <td>...</td>\n",
              "      <td>...</td>\n",
              "      <td>...</td>\n",
              "      <td>...</td>\n",
              "      <td>...</td>\n",
              "      <td>...</td>\n",
              "      <td>...</td>\n",
              "      <td>...</td>\n",
              "      <td>...</td>\n",
              "    </tr>\n",
              "    <tr>\n",
              "      <th>153207</th>\n",
              "      <td>US</td>\n",
              "      <td>United States of America</td>\n",
              "      <td>US-WY</td>\n",
              "      <td>Wyoming</td>\n",
              "      <td>Subdivision</td>\n",
              "      <td>42</td>\n",
              "      <td>Wholesale Trade</td>\n",
              "      <td>Industry</td>\n",
              "      <td>2020-11-22</td>\n",
              "      <td>2020-11-28</td>\n",
              "      <td>1</td>\n",
              "      <td>578759.0</td>\n",
              "    </tr>\n",
              "    <tr>\n",
              "      <th>153208</th>\n",
              "      <td>US</td>\n",
              "      <td>United States of America</td>\n",
              "      <td>US-WY</td>\n",
              "      <td>Wyoming</td>\n",
              "      <td>Subdivision</td>\n",
              "      <td>42</td>\n",
              "      <td>Wholesale Trade</td>\n",
              "      <td>Industry</td>\n",
              "      <td>2020-12-06</td>\n",
              "      <td>2020-12-12</td>\n",
              "      <td>4</td>\n",
              "      <td>578759.0</td>\n",
              "    </tr>\n",
              "    <tr>\n",
              "      <th>153209</th>\n",
              "      <td>US</td>\n",
              "      <td>United States of America</td>\n",
              "      <td>US-WY</td>\n",
              "      <td>Wyoming</td>\n",
              "      <td>Subdivision</td>\n",
              "      <td>42</td>\n",
              "      <td>Wholesale Trade</td>\n",
              "      <td>Industry</td>\n",
              "      <td>2020-12-13</td>\n",
              "      <td>2020-12-19</td>\n",
              "      <td>6</td>\n",
              "      <td>578759.0</td>\n",
              "    </tr>\n",
              "    <tr>\n",
              "      <th>153210</th>\n",
              "      <td>US</td>\n",
              "      <td>United States of America</td>\n",
              "      <td>US-WY</td>\n",
              "      <td>Wyoming</td>\n",
              "      <td>Subdivision</td>\n",
              "      <td>42</td>\n",
              "      <td>Wholesale Trade</td>\n",
              "      <td>Industry</td>\n",
              "      <td>2020-12-20</td>\n",
              "      <td>2020-12-26</td>\n",
              "      <td>5</td>\n",
              "      <td>578759.0</td>\n",
              "    </tr>\n",
              "    <tr>\n",
              "      <th>153211</th>\n",
              "      <td>US</td>\n",
              "      <td>United States of America</td>\n",
              "      <td>US-WY</td>\n",
              "      <td>Wyoming</td>\n",
              "      <td>Subdivision</td>\n",
              "      <td>42</td>\n",
              "      <td>Wholesale Trade</td>\n",
              "      <td>Industry</td>\n",
              "      <td>2020-12-27</td>\n",
              "      <td>2021-01-02</td>\n",
              "      <td>1</td>\n",
              "      <td>578759.0</td>\n",
              "    </tr>\n",
              "  </tbody>\n",
              "</table>\n",
              "<p>153212 rows × 12 columns</p>\n",
              "</div>"
            ],
            "text/plain": [
              "       country_code                   country  ... job_postings_count population\n",
              "0                AU                 Australia  ...                 22  1345777.0\n",
              "1                AU                 Australia  ...                 32  1345777.0\n",
              "2                AU                 Australia  ...                 27  1345777.0\n",
              "3                AU                 Australia  ...                 19  1345777.0\n",
              "4                AU                 Australia  ...                 32  1345777.0\n",
              "...             ...                       ...  ...                ...        ...\n",
              "153207           US  United States of America  ...                  1   578759.0\n",
              "153208           US  United States of America  ...                  4   578759.0\n",
              "153209           US  United States of America  ...                  6   578759.0\n",
              "153210           US  United States of America  ...                  5   578759.0\n",
              "153211           US  United States of America  ...                  1   578759.0\n",
              "\n",
              "[153212 rows x 12 columns]"
            ]
          },
          "metadata": {
            "tags": []
          },
          "execution_count": 208
        }
      ]
    },
    {
      "cell_type": "code",
      "metadata": {
        "colab": {
          "base_uri": "https://localhost:8080/"
        },
        "id": "gIQERBdXAse4",
        "outputId": "5c572554-ddfc-4a10-dbda-113bdec159ff"
      },
      "source": [
        "df.columns"
      ],
      "execution_count": 209,
      "outputs": [
        {
          "output_type": "execute_result",
          "data": {
            "text/plain": [
              "Index(['country_code', 'country', 'geography_code', 'geography',\n",
              "       'geography_type', 'group_code', 'group_name', 'group_type',\n",
              "       'start_date', 'end_date', 'job_postings_count', 'population'],\n",
              "      dtype='object')"
            ]
          },
          "metadata": {
            "tags": []
          },
          "execution_count": 209
        }
      ]
    },
    {
      "cell_type": "markdown",
      "metadata": {
        "id": "mrTlps1pGyv5"
      },
      "source": [
        "**Drop irrelevant columns**"
      ]
    },
    {
      "cell_type": "code",
      "metadata": {
        "id": "WW2YU80_A3Jm",
        "colab": {
          "base_uri": "https://localhost:8080/"
        },
        "outputId": "c01bc53a-5284-40fa-9556-f5d359001135"
      },
      "source": [
        "df = df.drop(['geography_code', 'geography','geography_type','group_code','group_type',\"country_code\",\"population\"], axis = 1)\r\n",
        "df.columns"
      ],
      "execution_count": 210,
      "outputs": [
        {
          "output_type": "execute_result",
          "data": {
            "text/plain": [
              "Index(['country', 'group_name', 'start_date', 'end_date',\n",
              "       'job_postings_count'],\n",
              "      dtype='object')"
            ]
          },
          "metadata": {
            "tags": []
          },
          "execution_count": 210
        }
      ]
    },
    {
      "cell_type": "code",
      "metadata": {
        "colab": {
          "base_uri": "https://localhost:8080/",
          "height": 417
        },
        "id": "nicRLiChGfwg",
        "outputId": "c041d6b1-97f4-4f2c-dfc6-ae3a96b80302"
      },
      "source": [
        "df"
      ],
      "execution_count": 211,
      "outputs": [
        {
          "output_type": "execute_result",
          "data": {
            "text/html": [
              "<div>\n",
              "<style scoped>\n",
              "    .dataframe tbody tr th:only-of-type {\n",
              "        vertical-align: middle;\n",
              "    }\n",
              "\n",
              "    .dataframe tbody tr th {\n",
              "        vertical-align: top;\n",
              "    }\n",
              "\n",
              "    .dataframe thead th {\n",
              "        text-align: right;\n",
              "    }\n",
              "</style>\n",
              "<table border=\"1\" class=\"dataframe\">\n",
              "  <thead>\n",
              "    <tr style=\"text-align: right;\">\n",
              "      <th></th>\n",
              "      <th>country</th>\n",
              "      <th>group_name</th>\n",
              "      <th>start_date</th>\n",
              "      <th>end_date</th>\n",
              "      <th>job_postings_count</th>\n",
              "    </tr>\n",
              "  </thead>\n",
              "  <tbody>\n",
              "    <tr>\n",
              "      <th>0</th>\n",
              "      <td>Australia</td>\n",
              "      <td>Accommodation and Food Services</td>\n",
              "      <td>2020-01-05</td>\n",
              "      <td>2020-01-11</td>\n",
              "      <td>22</td>\n",
              "    </tr>\n",
              "    <tr>\n",
              "      <th>1</th>\n",
              "      <td>Australia</td>\n",
              "      <td>Accommodation and Food Services</td>\n",
              "      <td>2020-01-12</td>\n",
              "      <td>2020-01-18</td>\n",
              "      <td>32</td>\n",
              "    </tr>\n",
              "    <tr>\n",
              "      <th>2</th>\n",
              "      <td>Australia</td>\n",
              "      <td>Accommodation and Food Services</td>\n",
              "      <td>2020-01-19</td>\n",
              "      <td>2020-01-25</td>\n",
              "      <td>27</td>\n",
              "    </tr>\n",
              "    <tr>\n",
              "      <th>3</th>\n",
              "      <td>Australia</td>\n",
              "      <td>Accommodation and Food Services</td>\n",
              "      <td>2020-01-26</td>\n",
              "      <td>2020-02-01</td>\n",
              "      <td>19</td>\n",
              "    </tr>\n",
              "    <tr>\n",
              "      <th>4</th>\n",
              "      <td>Australia</td>\n",
              "      <td>Accommodation and Food Services</td>\n",
              "      <td>2020-02-02</td>\n",
              "      <td>2020-02-08</td>\n",
              "      <td>32</td>\n",
              "    </tr>\n",
              "    <tr>\n",
              "      <th>...</th>\n",
              "      <td>...</td>\n",
              "      <td>...</td>\n",
              "      <td>...</td>\n",
              "      <td>...</td>\n",
              "      <td>...</td>\n",
              "    </tr>\n",
              "    <tr>\n",
              "      <th>153207</th>\n",
              "      <td>United States of America</td>\n",
              "      <td>Wholesale Trade</td>\n",
              "      <td>2020-11-22</td>\n",
              "      <td>2020-11-28</td>\n",
              "      <td>1</td>\n",
              "    </tr>\n",
              "    <tr>\n",
              "      <th>153208</th>\n",
              "      <td>United States of America</td>\n",
              "      <td>Wholesale Trade</td>\n",
              "      <td>2020-12-06</td>\n",
              "      <td>2020-12-12</td>\n",
              "      <td>4</td>\n",
              "    </tr>\n",
              "    <tr>\n",
              "      <th>153209</th>\n",
              "      <td>United States of America</td>\n",
              "      <td>Wholesale Trade</td>\n",
              "      <td>2020-12-13</td>\n",
              "      <td>2020-12-19</td>\n",
              "      <td>6</td>\n",
              "    </tr>\n",
              "    <tr>\n",
              "      <th>153210</th>\n",
              "      <td>United States of America</td>\n",
              "      <td>Wholesale Trade</td>\n",
              "      <td>2020-12-20</td>\n",
              "      <td>2020-12-26</td>\n",
              "      <td>5</td>\n",
              "    </tr>\n",
              "    <tr>\n",
              "      <th>153211</th>\n",
              "      <td>United States of America</td>\n",
              "      <td>Wholesale Trade</td>\n",
              "      <td>2020-12-27</td>\n",
              "      <td>2021-01-02</td>\n",
              "      <td>1</td>\n",
              "    </tr>\n",
              "  </tbody>\n",
              "</table>\n",
              "<p>153212 rows × 5 columns</p>\n",
              "</div>"
            ],
            "text/plain": [
              "                         country  ... job_postings_count\n",
              "0                      Australia  ...                 22\n",
              "1                      Australia  ...                 32\n",
              "2                      Australia  ...                 27\n",
              "3                      Australia  ...                 19\n",
              "4                      Australia  ...                 32\n",
              "...                          ...  ...                ...\n",
              "153207  United States of America  ...                  1\n",
              "153208  United States of America  ...                  4\n",
              "153209  United States of America  ...                  6\n",
              "153210  United States of America  ...                  5\n",
              "153211  United States of America  ...                  1\n",
              "\n",
              "[153212 rows x 5 columns]"
            ]
          },
          "metadata": {
            "tags": []
          },
          "execution_count": 211
        }
      ]
    },
    {
      "cell_type": "markdown",
      "metadata": {
        "id": "7D2Go4pvHnKu"
      },
      "source": [
        "**Select data for North America**"
      ]
    },
    {
      "cell_type": "code",
      "metadata": {
        "colab": {
          "base_uri": "https://localhost:8080/",
          "height": 417
        },
        "id": "FQR-yARgHmQL",
        "outputId": "fdf8ed5c-180d-40a7-f29f-571a4d97e90c"
      },
      "source": [
        "newdf = df[df[\"country\"].str.startswith(\"Canada\")]\r\n",
        "newdf"
      ],
      "execution_count": 212,
      "outputs": [
        {
          "output_type": "execute_result",
          "data": {
            "text/html": [
              "<div>\n",
              "<style scoped>\n",
              "    .dataframe tbody tr th:only-of-type {\n",
              "        vertical-align: middle;\n",
              "    }\n",
              "\n",
              "    .dataframe tbody tr th {\n",
              "        vertical-align: top;\n",
              "    }\n",
              "\n",
              "    .dataframe thead th {\n",
              "        text-align: right;\n",
              "    }\n",
              "</style>\n",
              "<table border=\"1\" class=\"dataframe\">\n",
              "  <thead>\n",
              "    <tr style=\"text-align: right;\">\n",
              "      <th></th>\n",
              "      <th>country</th>\n",
              "      <th>group_name</th>\n",
              "      <th>start_date</th>\n",
              "      <th>end_date</th>\n",
              "      <th>job_postings_count</th>\n",
              "    </tr>\n",
              "  </thead>\n",
              "  <tbody>\n",
              "    <tr>\n",
              "      <th>13199</th>\n",
              "      <td>Canada</td>\n",
              "      <td>Accommodation and Food Services</td>\n",
              "      <td>2020-01-05</td>\n",
              "      <td>2020-01-11</td>\n",
              "      <td>88</td>\n",
              "    </tr>\n",
              "    <tr>\n",
              "      <th>13200</th>\n",
              "      <td>Canada</td>\n",
              "      <td>Accommodation and Food Services</td>\n",
              "      <td>2020-01-12</td>\n",
              "      <td>2020-01-18</td>\n",
              "      <td>75</td>\n",
              "    </tr>\n",
              "    <tr>\n",
              "      <th>13201</th>\n",
              "      <td>Canada</td>\n",
              "      <td>Accommodation and Food Services</td>\n",
              "      <td>2020-01-19</td>\n",
              "      <td>2020-01-25</td>\n",
              "      <td>117</td>\n",
              "    </tr>\n",
              "    <tr>\n",
              "      <th>13202</th>\n",
              "      <td>Canada</td>\n",
              "      <td>Accommodation and Food Services</td>\n",
              "      <td>2020-01-26</td>\n",
              "      <td>2020-02-01</td>\n",
              "      <td>126</td>\n",
              "    </tr>\n",
              "    <tr>\n",
              "      <th>13203</th>\n",
              "      <td>Canada</td>\n",
              "      <td>Accommodation and Food Services</td>\n",
              "      <td>2020-02-02</td>\n",
              "      <td>2020-02-08</td>\n",
              "      <td>69</td>\n",
              "    </tr>\n",
              "    <tr>\n",
              "      <th>...</th>\n",
              "      <td>...</td>\n",
              "      <td>...</td>\n",
              "      <td>...</td>\n",
              "      <td>...</td>\n",
              "      <td>...</td>\n",
              "    </tr>\n",
              "    <tr>\n",
              "      <th>30918</th>\n",
              "      <td>Canada</td>\n",
              "      <td>Wholesale Trade</td>\n",
              "      <td>2020-07-26</td>\n",
              "      <td>2020-08-01</td>\n",
              "      <td>1</td>\n",
              "    </tr>\n",
              "    <tr>\n",
              "      <th>30919</th>\n",
              "      <td>Canada</td>\n",
              "      <td>Wholesale Trade</td>\n",
              "      <td>2020-09-20</td>\n",
              "      <td>2020-09-26</td>\n",
              "      <td>1</td>\n",
              "    </tr>\n",
              "    <tr>\n",
              "      <th>30920</th>\n",
              "      <td>Canada</td>\n",
              "      <td>Wholesale Trade</td>\n",
              "      <td>2020-09-27</td>\n",
              "      <td>2020-10-03</td>\n",
              "      <td>1</td>\n",
              "    </tr>\n",
              "    <tr>\n",
              "      <th>30921</th>\n",
              "      <td>Canada</td>\n",
              "      <td>Wholesale Trade</td>\n",
              "      <td>2020-10-04</td>\n",
              "      <td>2020-10-10</td>\n",
              "      <td>1</td>\n",
              "    </tr>\n",
              "    <tr>\n",
              "      <th>30922</th>\n",
              "      <td>Canada</td>\n",
              "      <td>Wholesale Trade</td>\n",
              "      <td>2020-10-25</td>\n",
              "      <td>2020-10-31</td>\n",
              "      <td>1</td>\n",
              "    </tr>\n",
              "  </tbody>\n",
              "</table>\n",
              "<p>17724 rows × 5 columns</p>\n",
              "</div>"
            ],
            "text/plain": [
              "      country                       group_name  ...    end_date job_postings_count\n",
              "13199  Canada  Accommodation and Food Services  ...  2020-01-11                 88\n",
              "13200  Canada  Accommodation and Food Services  ...  2020-01-18                 75\n",
              "13201  Canada  Accommodation and Food Services  ...  2020-01-25                117\n",
              "13202  Canada  Accommodation and Food Services  ...  2020-02-01                126\n",
              "13203  Canada  Accommodation and Food Services  ...  2020-02-08                 69\n",
              "...       ...                              ...  ...         ...                ...\n",
              "30918  Canada                  Wholesale Trade  ...  2020-08-01                  1\n",
              "30919  Canada                  Wholesale Trade  ...  2020-09-26                  1\n",
              "30920  Canada                  Wholesale Trade  ...  2020-10-03                  1\n",
              "30921  Canada                  Wholesale Trade  ...  2020-10-10                  1\n",
              "30922  Canada                  Wholesale Trade  ...  2020-10-31                  1\n",
              "\n",
              "[17724 rows x 5 columns]"
            ]
          },
          "metadata": {
            "tags": []
          },
          "execution_count": 212
        }
      ]
    },
    {
      "cell_type": "markdown",
      "metadata": {
        "id": "ZwTbfnCGW0JZ"
      },
      "source": [
        "**Select top 10 industries**"
      ]
    },
    {
      "cell_type": "code",
      "metadata": {
        "colab": {
          "base_uri": "https://localhost:8080/",
          "height": 507
        },
        "id": "lZfRgQ5cWyAy",
        "outputId": "2a22dce0-4d00-492b-c905-b87ffd96da1c"
      },
      "source": [
        "options = ['Health Care and Social Assistance', \r\n",
        "           'Retail Trade',\r\n",
        "           \"Accommodation and Food Services\",\r\n",
        "           \"Professional, Scientific, and Technical Services\",\r\n",
        "           \"Finance and Insurance\",\r\n",
        "           \"Manufacturing\",\r\n",
        "           \"Educational Services\",\r\n",
        "           \"Information\",\r\n",
        "           \"Construction\",\r\n",
        "           \"Arts, Entertainment, and Recreation\"] \r\n",
        "\r\n",
        "newdf = newdf.loc[newdf['group_name'].isin(options)]\r\n",
        "\r\n",
        "newdf.drop(['country'], axis = 1, inplace=True)\r\n",
        "newdf"
      ],
      "execution_count": 213,
      "outputs": [
        {
          "output_type": "stream",
          "text": [
            "/usr/local/lib/python3.7/dist-packages/pandas/core/frame.py:4174: SettingWithCopyWarning: \n",
            "A value is trying to be set on a copy of a slice from a DataFrame\n",
            "\n",
            "See the caveats in the documentation: https://pandas.pydata.org/pandas-docs/stable/user_guide/indexing.html#returning-a-view-versus-a-copy\n",
            "  errors=errors,\n"
          ],
          "name": "stderr"
        },
        {
          "output_type": "execute_result",
          "data": {
            "text/html": [
              "<div>\n",
              "<style scoped>\n",
              "    .dataframe tbody tr th:only-of-type {\n",
              "        vertical-align: middle;\n",
              "    }\n",
              "\n",
              "    .dataframe tbody tr th {\n",
              "        vertical-align: top;\n",
              "    }\n",
              "\n",
              "    .dataframe thead th {\n",
              "        text-align: right;\n",
              "    }\n",
              "</style>\n",
              "<table border=\"1\" class=\"dataframe\">\n",
              "  <thead>\n",
              "    <tr style=\"text-align: right;\">\n",
              "      <th></th>\n",
              "      <th>group_name</th>\n",
              "      <th>start_date</th>\n",
              "      <th>end_date</th>\n",
              "      <th>job_postings_count</th>\n",
              "    </tr>\n",
              "  </thead>\n",
              "  <tbody>\n",
              "    <tr>\n",
              "      <th>13199</th>\n",
              "      <td>Accommodation and Food Services</td>\n",
              "      <td>2020-01-05</td>\n",
              "      <td>2020-01-11</td>\n",
              "      <td>88</td>\n",
              "    </tr>\n",
              "    <tr>\n",
              "      <th>13200</th>\n",
              "      <td>Accommodation and Food Services</td>\n",
              "      <td>2020-01-12</td>\n",
              "      <td>2020-01-18</td>\n",
              "      <td>75</td>\n",
              "    </tr>\n",
              "    <tr>\n",
              "      <th>13201</th>\n",
              "      <td>Accommodation and Food Services</td>\n",
              "      <td>2020-01-19</td>\n",
              "      <td>2020-01-25</td>\n",
              "      <td>117</td>\n",
              "    </tr>\n",
              "    <tr>\n",
              "      <th>13202</th>\n",
              "      <td>Accommodation and Food Services</td>\n",
              "      <td>2020-01-26</td>\n",
              "      <td>2020-02-01</td>\n",
              "      <td>126</td>\n",
              "    </tr>\n",
              "    <tr>\n",
              "      <th>13203</th>\n",
              "      <td>Accommodation and Food Services</td>\n",
              "      <td>2020-02-02</td>\n",
              "      <td>2020-02-08</td>\n",
              "      <td>69</td>\n",
              "    </tr>\n",
              "    <tr>\n",
              "      <th>...</th>\n",
              "      <td>...</td>\n",
              "      <td>...</td>\n",
              "      <td>...</td>\n",
              "      <td>...</td>\n",
              "    </tr>\n",
              "    <tr>\n",
              "      <th>30855</th>\n",
              "      <td>Retail Trade</td>\n",
              "      <td>2020-11-22</td>\n",
              "      <td>2020-11-28</td>\n",
              "      <td>5</td>\n",
              "    </tr>\n",
              "    <tr>\n",
              "      <th>30856</th>\n",
              "      <td>Retail Trade</td>\n",
              "      <td>2020-11-29</td>\n",
              "      <td>2020-12-05</td>\n",
              "      <td>2</td>\n",
              "    </tr>\n",
              "    <tr>\n",
              "      <th>30857</th>\n",
              "      <td>Retail Trade</td>\n",
              "      <td>2020-12-06</td>\n",
              "      <td>2020-12-12</td>\n",
              "      <td>6</td>\n",
              "    </tr>\n",
              "    <tr>\n",
              "      <th>30858</th>\n",
              "      <td>Retail Trade</td>\n",
              "      <td>2020-12-13</td>\n",
              "      <td>2020-12-19</td>\n",
              "      <td>2</td>\n",
              "    </tr>\n",
              "    <tr>\n",
              "      <th>30859</th>\n",
              "      <td>Retail Trade</td>\n",
              "      <td>2020-12-20</td>\n",
              "      <td>2020-12-26</td>\n",
              "      <td>10</td>\n",
              "    </tr>\n",
              "  </tbody>\n",
              "</table>\n",
              "<p>9378 rows × 4 columns</p>\n",
              "</div>"
            ],
            "text/plain": [
              "                            group_name  ... job_postings_count\n",
              "13199  Accommodation and Food Services  ...                 88\n",
              "13200  Accommodation and Food Services  ...                 75\n",
              "13201  Accommodation and Food Services  ...                117\n",
              "13202  Accommodation and Food Services  ...                126\n",
              "13203  Accommodation and Food Services  ...                 69\n",
              "...                                ...  ...                ...\n",
              "30855                     Retail Trade  ...                  5\n",
              "30856                     Retail Trade  ...                  2\n",
              "30857                     Retail Trade  ...                  6\n",
              "30858                     Retail Trade  ...                  2\n",
              "30859                     Retail Trade  ...                 10\n",
              "\n",
              "[9378 rows x 4 columns]"
            ]
          },
          "metadata": {
            "tags": []
          },
          "execution_count": 213
        }
      ]
    },
    {
      "cell_type": "code",
      "metadata": {
        "colab": {
          "base_uri": "https://localhost:8080/",
          "height": 1000
        },
        "id": "dHerPx-1g4bO",
        "outputId": "68ee413c-73b3-4151-d832-813a3dffea7b"
      },
      "source": [
        "newdf['start_date'] = pd.to_datetime(newdf['start_date']) \r\n",
        "\r\n",
        "# add new columns for the date and months \r\n",
        "newdf['start_month'] = newdf['start_date'].apply(lambda date:date.month)\r\n",
        "newdf['start_year'] = newdf['start_date'].apply(lambda date:date.year)\r\n",
        "newdf['start_day'] = newdf['start_date'].apply(lambda date:date.day)\r\n",
        "\r\n",
        "newdf['end_date'] = pd.to_datetime(newdf['end_date']) \r\n",
        "\r\n",
        "newdf['end_month'] = newdf['end_date'].apply(lambda date:date.month)\r\n",
        "newdf['end_year'] = newdf['end_date'].apply(lambda date:date.year)\r\n",
        "newdf['end_day'] = newdf['end_date'].apply(lambda date:date.day)\r\n",
        "\r\n",
        "\r\n",
        "newdf\r\n",
        "\r\n"
      ],
      "execution_count": 214,
      "outputs": [
        {
          "output_type": "stream",
          "text": [
            "/usr/local/lib/python3.7/dist-packages/ipykernel_launcher.py:1: SettingWithCopyWarning: \n",
            "A value is trying to be set on a copy of a slice from a DataFrame.\n",
            "Try using .loc[row_indexer,col_indexer] = value instead\n",
            "\n",
            "See the caveats in the documentation: https://pandas.pydata.org/pandas-docs/stable/user_guide/indexing.html#returning-a-view-versus-a-copy\n",
            "  \"\"\"Entry point for launching an IPython kernel.\n",
            "/usr/local/lib/python3.7/dist-packages/ipykernel_launcher.py:4: SettingWithCopyWarning: \n",
            "A value is trying to be set on a copy of a slice from a DataFrame.\n",
            "Try using .loc[row_indexer,col_indexer] = value instead\n",
            "\n",
            "See the caveats in the documentation: https://pandas.pydata.org/pandas-docs/stable/user_guide/indexing.html#returning-a-view-versus-a-copy\n",
            "  after removing the cwd from sys.path.\n",
            "/usr/local/lib/python3.7/dist-packages/ipykernel_launcher.py:5: SettingWithCopyWarning: \n",
            "A value is trying to be set on a copy of a slice from a DataFrame.\n",
            "Try using .loc[row_indexer,col_indexer] = value instead\n",
            "\n",
            "See the caveats in the documentation: https://pandas.pydata.org/pandas-docs/stable/user_guide/indexing.html#returning-a-view-versus-a-copy\n",
            "  \"\"\"\n",
            "/usr/local/lib/python3.7/dist-packages/ipykernel_launcher.py:6: SettingWithCopyWarning: \n",
            "A value is trying to be set on a copy of a slice from a DataFrame.\n",
            "Try using .loc[row_indexer,col_indexer] = value instead\n",
            "\n",
            "See the caveats in the documentation: https://pandas.pydata.org/pandas-docs/stable/user_guide/indexing.html#returning-a-view-versus-a-copy\n",
            "  \n",
            "/usr/local/lib/python3.7/dist-packages/ipykernel_launcher.py:8: SettingWithCopyWarning: \n",
            "A value is trying to be set on a copy of a slice from a DataFrame.\n",
            "Try using .loc[row_indexer,col_indexer] = value instead\n",
            "\n",
            "See the caveats in the documentation: https://pandas.pydata.org/pandas-docs/stable/user_guide/indexing.html#returning-a-view-versus-a-copy\n",
            "  \n",
            "/usr/local/lib/python3.7/dist-packages/ipykernel_launcher.py:10: SettingWithCopyWarning: \n",
            "A value is trying to be set on a copy of a slice from a DataFrame.\n",
            "Try using .loc[row_indexer,col_indexer] = value instead\n",
            "\n",
            "See the caveats in the documentation: https://pandas.pydata.org/pandas-docs/stable/user_guide/indexing.html#returning-a-view-versus-a-copy\n",
            "  # Remove the CWD from sys.path while we load stuff.\n",
            "/usr/local/lib/python3.7/dist-packages/ipykernel_launcher.py:11: SettingWithCopyWarning: \n",
            "A value is trying to be set on a copy of a slice from a DataFrame.\n",
            "Try using .loc[row_indexer,col_indexer] = value instead\n",
            "\n",
            "See the caveats in the documentation: https://pandas.pydata.org/pandas-docs/stable/user_guide/indexing.html#returning-a-view-versus-a-copy\n",
            "  # This is added back by InteractiveShellApp.init_path()\n",
            "/usr/local/lib/python3.7/dist-packages/ipykernel_launcher.py:12: SettingWithCopyWarning: \n",
            "A value is trying to be set on a copy of a slice from a DataFrame.\n",
            "Try using .loc[row_indexer,col_indexer] = value instead\n",
            "\n",
            "See the caveats in the documentation: https://pandas.pydata.org/pandas-docs/stable/user_guide/indexing.html#returning-a-view-versus-a-copy\n",
            "  if sys.path[0] == '':\n"
          ],
          "name": "stderr"
        },
        {
          "output_type": "execute_result",
          "data": {
            "text/html": [
              "<div>\n",
              "<style scoped>\n",
              "    .dataframe tbody tr th:only-of-type {\n",
              "        vertical-align: middle;\n",
              "    }\n",
              "\n",
              "    .dataframe tbody tr th {\n",
              "        vertical-align: top;\n",
              "    }\n",
              "\n",
              "    .dataframe thead th {\n",
              "        text-align: right;\n",
              "    }\n",
              "</style>\n",
              "<table border=\"1\" class=\"dataframe\">\n",
              "  <thead>\n",
              "    <tr style=\"text-align: right;\">\n",
              "      <th></th>\n",
              "      <th>group_name</th>\n",
              "      <th>start_date</th>\n",
              "      <th>end_date</th>\n",
              "      <th>job_postings_count</th>\n",
              "      <th>start_month</th>\n",
              "      <th>start_year</th>\n",
              "      <th>start_day</th>\n",
              "      <th>end_month</th>\n",
              "      <th>end_year</th>\n",
              "      <th>end_day</th>\n",
              "    </tr>\n",
              "  </thead>\n",
              "  <tbody>\n",
              "    <tr>\n",
              "      <th>13199</th>\n",
              "      <td>Accommodation and Food Services</td>\n",
              "      <td>2020-01-05</td>\n",
              "      <td>2020-01-11</td>\n",
              "      <td>88</td>\n",
              "      <td>1</td>\n",
              "      <td>2020</td>\n",
              "      <td>5</td>\n",
              "      <td>1</td>\n",
              "      <td>2020</td>\n",
              "      <td>11</td>\n",
              "    </tr>\n",
              "    <tr>\n",
              "      <th>13200</th>\n",
              "      <td>Accommodation and Food Services</td>\n",
              "      <td>2020-01-12</td>\n",
              "      <td>2020-01-18</td>\n",
              "      <td>75</td>\n",
              "      <td>1</td>\n",
              "      <td>2020</td>\n",
              "      <td>12</td>\n",
              "      <td>1</td>\n",
              "      <td>2020</td>\n",
              "      <td>18</td>\n",
              "    </tr>\n",
              "    <tr>\n",
              "      <th>13201</th>\n",
              "      <td>Accommodation and Food Services</td>\n",
              "      <td>2020-01-19</td>\n",
              "      <td>2020-01-25</td>\n",
              "      <td>117</td>\n",
              "      <td>1</td>\n",
              "      <td>2020</td>\n",
              "      <td>19</td>\n",
              "      <td>1</td>\n",
              "      <td>2020</td>\n",
              "      <td>25</td>\n",
              "    </tr>\n",
              "    <tr>\n",
              "      <th>13202</th>\n",
              "      <td>Accommodation and Food Services</td>\n",
              "      <td>2020-01-26</td>\n",
              "      <td>2020-02-01</td>\n",
              "      <td>126</td>\n",
              "      <td>1</td>\n",
              "      <td>2020</td>\n",
              "      <td>26</td>\n",
              "      <td>2</td>\n",
              "      <td>2020</td>\n",
              "      <td>1</td>\n",
              "    </tr>\n",
              "    <tr>\n",
              "      <th>13203</th>\n",
              "      <td>Accommodation and Food Services</td>\n",
              "      <td>2020-02-02</td>\n",
              "      <td>2020-02-08</td>\n",
              "      <td>69</td>\n",
              "      <td>2</td>\n",
              "      <td>2020</td>\n",
              "      <td>2</td>\n",
              "      <td>2</td>\n",
              "      <td>2020</td>\n",
              "      <td>8</td>\n",
              "    </tr>\n",
              "    <tr>\n",
              "      <th>...</th>\n",
              "      <td>...</td>\n",
              "      <td>...</td>\n",
              "      <td>...</td>\n",
              "      <td>...</td>\n",
              "      <td>...</td>\n",
              "      <td>...</td>\n",
              "      <td>...</td>\n",
              "      <td>...</td>\n",
              "      <td>...</td>\n",
              "      <td>...</td>\n",
              "    </tr>\n",
              "    <tr>\n",
              "      <th>30855</th>\n",
              "      <td>Retail Trade</td>\n",
              "      <td>2020-11-22</td>\n",
              "      <td>2020-11-28</td>\n",
              "      <td>5</td>\n",
              "      <td>11</td>\n",
              "      <td>2020</td>\n",
              "      <td>22</td>\n",
              "      <td>11</td>\n",
              "      <td>2020</td>\n",
              "      <td>28</td>\n",
              "    </tr>\n",
              "    <tr>\n",
              "      <th>30856</th>\n",
              "      <td>Retail Trade</td>\n",
              "      <td>2020-11-29</td>\n",
              "      <td>2020-12-05</td>\n",
              "      <td>2</td>\n",
              "      <td>11</td>\n",
              "      <td>2020</td>\n",
              "      <td>29</td>\n",
              "      <td>12</td>\n",
              "      <td>2020</td>\n",
              "      <td>5</td>\n",
              "    </tr>\n",
              "    <tr>\n",
              "      <th>30857</th>\n",
              "      <td>Retail Trade</td>\n",
              "      <td>2020-12-06</td>\n",
              "      <td>2020-12-12</td>\n",
              "      <td>6</td>\n",
              "      <td>12</td>\n",
              "      <td>2020</td>\n",
              "      <td>6</td>\n",
              "      <td>12</td>\n",
              "      <td>2020</td>\n",
              "      <td>12</td>\n",
              "    </tr>\n",
              "    <tr>\n",
              "      <th>30858</th>\n",
              "      <td>Retail Trade</td>\n",
              "      <td>2020-12-13</td>\n",
              "      <td>2020-12-19</td>\n",
              "      <td>2</td>\n",
              "      <td>12</td>\n",
              "      <td>2020</td>\n",
              "      <td>13</td>\n",
              "      <td>12</td>\n",
              "      <td>2020</td>\n",
              "      <td>19</td>\n",
              "    </tr>\n",
              "    <tr>\n",
              "      <th>30859</th>\n",
              "      <td>Retail Trade</td>\n",
              "      <td>2020-12-20</td>\n",
              "      <td>2020-12-26</td>\n",
              "      <td>10</td>\n",
              "      <td>12</td>\n",
              "      <td>2020</td>\n",
              "      <td>20</td>\n",
              "      <td>12</td>\n",
              "      <td>2020</td>\n",
              "      <td>26</td>\n",
              "    </tr>\n",
              "  </tbody>\n",
              "</table>\n",
              "<p>9378 rows × 10 columns</p>\n",
              "</div>"
            ],
            "text/plain": [
              "                            group_name start_date  ... end_year  end_day\n",
              "13199  Accommodation and Food Services 2020-01-05  ...     2020       11\n",
              "13200  Accommodation and Food Services 2020-01-12  ...     2020       18\n",
              "13201  Accommodation and Food Services 2020-01-19  ...     2020       25\n",
              "13202  Accommodation and Food Services 2020-01-26  ...     2020        1\n",
              "13203  Accommodation and Food Services 2020-02-02  ...     2020        8\n",
              "...                                ...        ...  ...      ...      ...\n",
              "30855                     Retail Trade 2020-11-22  ...     2020       28\n",
              "30856                     Retail Trade 2020-11-29  ...     2020        5\n",
              "30857                     Retail Trade 2020-12-06  ...     2020       12\n",
              "30858                     Retail Trade 2020-12-13  ...     2020       19\n",
              "30859                     Retail Trade 2020-12-20  ...     2020       26\n",
              "\n",
              "[9378 rows x 10 columns]"
            ]
          },
          "metadata": {
            "tags": []
          },
          "execution_count": 214
        }
      ]
    },
    {
      "cell_type": "code",
      "metadata": {
        "colab": {
          "base_uri": "https://localhost:8080/",
          "height": 417
        },
        "id": "FNeZ9vWckJ9r",
        "outputId": "4bf4ad37-3e98-478c-aae2-1df64b3c8e10"
      },
      "source": [
        "newdf = newdf.drop(['start_date',\"end_date\"], axis = 1)\r\n",
        "newdf"
      ],
      "execution_count": 215,
      "outputs": [
        {
          "output_type": "execute_result",
          "data": {
            "text/html": [
              "<div>\n",
              "<style scoped>\n",
              "    .dataframe tbody tr th:only-of-type {\n",
              "        vertical-align: middle;\n",
              "    }\n",
              "\n",
              "    .dataframe tbody tr th {\n",
              "        vertical-align: top;\n",
              "    }\n",
              "\n",
              "    .dataframe thead th {\n",
              "        text-align: right;\n",
              "    }\n",
              "</style>\n",
              "<table border=\"1\" class=\"dataframe\">\n",
              "  <thead>\n",
              "    <tr style=\"text-align: right;\">\n",
              "      <th></th>\n",
              "      <th>group_name</th>\n",
              "      <th>job_postings_count</th>\n",
              "      <th>start_month</th>\n",
              "      <th>start_year</th>\n",
              "      <th>start_day</th>\n",
              "      <th>end_month</th>\n",
              "      <th>end_year</th>\n",
              "      <th>end_day</th>\n",
              "    </tr>\n",
              "  </thead>\n",
              "  <tbody>\n",
              "    <tr>\n",
              "      <th>13199</th>\n",
              "      <td>Accommodation and Food Services</td>\n",
              "      <td>88</td>\n",
              "      <td>1</td>\n",
              "      <td>2020</td>\n",
              "      <td>5</td>\n",
              "      <td>1</td>\n",
              "      <td>2020</td>\n",
              "      <td>11</td>\n",
              "    </tr>\n",
              "    <tr>\n",
              "      <th>13200</th>\n",
              "      <td>Accommodation and Food Services</td>\n",
              "      <td>75</td>\n",
              "      <td>1</td>\n",
              "      <td>2020</td>\n",
              "      <td>12</td>\n",
              "      <td>1</td>\n",
              "      <td>2020</td>\n",
              "      <td>18</td>\n",
              "    </tr>\n",
              "    <tr>\n",
              "      <th>13201</th>\n",
              "      <td>Accommodation and Food Services</td>\n",
              "      <td>117</td>\n",
              "      <td>1</td>\n",
              "      <td>2020</td>\n",
              "      <td>19</td>\n",
              "      <td>1</td>\n",
              "      <td>2020</td>\n",
              "      <td>25</td>\n",
              "    </tr>\n",
              "    <tr>\n",
              "      <th>13202</th>\n",
              "      <td>Accommodation and Food Services</td>\n",
              "      <td>126</td>\n",
              "      <td>1</td>\n",
              "      <td>2020</td>\n",
              "      <td>26</td>\n",
              "      <td>2</td>\n",
              "      <td>2020</td>\n",
              "      <td>1</td>\n",
              "    </tr>\n",
              "    <tr>\n",
              "      <th>13203</th>\n",
              "      <td>Accommodation and Food Services</td>\n",
              "      <td>69</td>\n",
              "      <td>2</td>\n",
              "      <td>2020</td>\n",
              "      <td>2</td>\n",
              "      <td>2</td>\n",
              "      <td>2020</td>\n",
              "      <td>8</td>\n",
              "    </tr>\n",
              "    <tr>\n",
              "      <th>...</th>\n",
              "      <td>...</td>\n",
              "      <td>...</td>\n",
              "      <td>...</td>\n",
              "      <td>...</td>\n",
              "      <td>...</td>\n",
              "      <td>...</td>\n",
              "      <td>...</td>\n",
              "      <td>...</td>\n",
              "    </tr>\n",
              "    <tr>\n",
              "      <th>30855</th>\n",
              "      <td>Retail Trade</td>\n",
              "      <td>5</td>\n",
              "      <td>11</td>\n",
              "      <td>2020</td>\n",
              "      <td>22</td>\n",
              "      <td>11</td>\n",
              "      <td>2020</td>\n",
              "      <td>28</td>\n",
              "    </tr>\n",
              "    <tr>\n",
              "      <th>30856</th>\n",
              "      <td>Retail Trade</td>\n",
              "      <td>2</td>\n",
              "      <td>11</td>\n",
              "      <td>2020</td>\n",
              "      <td>29</td>\n",
              "      <td>12</td>\n",
              "      <td>2020</td>\n",
              "      <td>5</td>\n",
              "    </tr>\n",
              "    <tr>\n",
              "      <th>30857</th>\n",
              "      <td>Retail Trade</td>\n",
              "      <td>6</td>\n",
              "      <td>12</td>\n",
              "      <td>2020</td>\n",
              "      <td>6</td>\n",
              "      <td>12</td>\n",
              "      <td>2020</td>\n",
              "      <td>12</td>\n",
              "    </tr>\n",
              "    <tr>\n",
              "      <th>30858</th>\n",
              "      <td>Retail Trade</td>\n",
              "      <td>2</td>\n",
              "      <td>12</td>\n",
              "      <td>2020</td>\n",
              "      <td>13</td>\n",
              "      <td>12</td>\n",
              "      <td>2020</td>\n",
              "      <td>19</td>\n",
              "    </tr>\n",
              "    <tr>\n",
              "      <th>30859</th>\n",
              "      <td>Retail Trade</td>\n",
              "      <td>10</td>\n",
              "      <td>12</td>\n",
              "      <td>2020</td>\n",
              "      <td>20</td>\n",
              "      <td>12</td>\n",
              "      <td>2020</td>\n",
              "      <td>26</td>\n",
              "    </tr>\n",
              "  </tbody>\n",
              "</table>\n",
              "<p>9378 rows × 8 columns</p>\n",
              "</div>"
            ],
            "text/plain": [
              "                            group_name  job_postings_count  ...  end_year  end_day\n",
              "13199  Accommodation and Food Services                  88  ...      2020       11\n",
              "13200  Accommodation and Food Services                  75  ...      2020       18\n",
              "13201  Accommodation and Food Services                 117  ...      2020       25\n",
              "13202  Accommodation and Food Services                 126  ...      2020        1\n",
              "13203  Accommodation and Food Services                  69  ...      2020        8\n",
              "...                                ...                 ...  ...       ...      ...\n",
              "30855                     Retail Trade                   5  ...      2020       28\n",
              "30856                     Retail Trade                   2  ...      2020        5\n",
              "30857                     Retail Trade                   6  ...      2020       12\n",
              "30858                     Retail Trade                   2  ...      2020       19\n",
              "30859                     Retail Trade                  10  ...      2020       26\n",
              "\n",
              "[9378 rows x 8 columns]"
            ]
          },
          "metadata": {
            "tags": []
          },
          "execution_count": 215
        }
      ]
    },
    {
      "cell_type": "markdown",
      "metadata": {
        "id": "993907wukme3"
      },
      "source": [
        "**Recode group name**"
      ]
    },
    {
      "cell_type": "code",
      "metadata": {
        "colab": {
          "base_uri": "https://localhost:8080/",
          "height": 1000
        },
        "id": "uyu0-8sfkl1J",
        "outputId": "2cec6475-6ba6-4cdc-ac29-62f7052abd2e"
      },
      "source": [
        "\r\n",
        "\r\n",
        "newdf.group_name[newdf.group_name ==\"Accommodation and Food Services\"] = 1\r\n",
        "newdf.group_name[newdf.group_name ==\"Health Care and Social Assistance\"] = 2\r\n",
        "newdf.group_name[newdf.group_name ==\"Retail Trade\"] = 3\r\n",
        "newdf.group_name[newdf.group_name ==\"Professional, Scientific, and Technical Services\"] = 4\r\n",
        "newdf.group_name[newdf.group_name ==\"Finance and Insurance\"] = 5\r\n",
        "newdf.group_name[newdf.group_name ==\"Manufacturing\"] = 6\r\n",
        "newdf.group_name[newdf.group_name ==\"Educational Services\"] = 7\r\n",
        "newdf.group_name[newdf.group_name ==\"Information\"] = 8\r\n",
        "newdf.group_name[newdf.group_name ==\"Construction\"] = 9\r\n",
        "newdf.group_name[newdf.group_name ==\"Arts, Entertainment, and Recreation\"] = 10\r\n",
        "\r\n",
        "newdf\r\n",
        "\r\n",
        "\r\n"
      ],
      "execution_count": 216,
      "outputs": [
        {
          "output_type": "stream",
          "text": [
            "/usr/local/lib/python3.7/dist-packages/ipykernel_launcher.py:3: SettingWithCopyWarning: \n",
            "A value is trying to be set on a copy of a slice from a DataFrame\n",
            "\n",
            "See the caveats in the documentation: https://pandas.pydata.org/pandas-docs/stable/user_guide/indexing.html#returning-a-view-versus-a-copy\n",
            "  This is separate from the ipykernel package so we can avoid doing imports until\n",
            "/usr/local/lib/python3.7/dist-packages/ipykernel_launcher.py:4: SettingWithCopyWarning: \n",
            "A value is trying to be set on a copy of a slice from a DataFrame\n",
            "\n",
            "See the caveats in the documentation: https://pandas.pydata.org/pandas-docs/stable/user_guide/indexing.html#returning-a-view-versus-a-copy\n",
            "  after removing the cwd from sys.path.\n",
            "/usr/local/lib/python3.7/dist-packages/ipykernel_launcher.py:5: SettingWithCopyWarning: \n",
            "A value is trying to be set on a copy of a slice from a DataFrame\n",
            "\n",
            "See the caveats in the documentation: https://pandas.pydata.org/pandas-docs/stable/user_guide/indexing.html#returning-a-view-versus-a-copy\n",
            "  \"\"\"\n",
            "/usr/local/lib/python3.7/dist-packages/ipykernel_launcher.py:6: SettingWithCopyWarning: \n",
            "A value is trying to be set on a copy of a slice from a DataFrame\n",
            "\n",
            "See the caveats in the documentation: https://pandas.pydata.org/pandas-docs/stable/user_guide/indexing.html#returning-a-view-versus-a-copy\n",
            "  \n",
            "/usr/local/lib/python3.7/dist-packages/ipykernel_launcher.py:7: SettingWithCopyWarning: \n",
            "A value is trying to be set on a copy of a slice from a DataFrame\n",
            "\n",
            "See the caveats in the documentation: https://pandas.pydata.org/pandas-docs/stable/user_guide/indexing.html#returning-a-view-versus-a-copy\n",
            "  import sys\n",
            "/usr/local/lib/python3.7/dist-packages/ipykernel_launcher.py:8: SettingWithCopyWarning: \n",
            "A value is trying to be set on a copy of a slice from a DataFrame\n",
            "\n",
            "See the caveats in the documentation: https://pandas.pydata.org/pandas-docs/stable/user_guide/indexing.html#returning-a-view-versus-a-copy\n",
            "  \n",
            "/usr/local/lib/python3.7/dist-packages/ipykernel_launcher.py:9: SettingWithCopyWarning: \n",
            "A value is trying to be set on a copy of a slice from a DataFrame\n",
            "\n",
            "See the caveats in the documentation: https://pandas.pydata.org/pandas-docs/stable/user_guide/indexing.html#returning-a-view-versus-a-copy\n",
            "  if __name__ == '__main__':\n",
            "/usr/local/lib/python3.7/dist-packages/ipykernel_launcher.py:10: SettingWithCopyWarning: \n",
            "A value is trying to be set on a copy of a slice from a DataFrame\n",
            "\n",
            "See the caveats in the documentation: https://pandas.pydata.org/pandas-docs/stable/user_guide/indexing.html#returning-a-view-versus-a-copy\n",
            "  # Remove the CWD from sys.path while we load stuff.\n",
            "/usr/local/lib/python3.7/dist-packages/ipykernel_launcher.py:11: SettingWithCopyWarning: \n",
            "A value is trying to be set on a copy of a slice from a DataFrame\n",
            "\n",
            "See the caveats in the documentation: https://pandas.pydata.org/pandas-docs/stable/user_guide/indexing.html#returning-a-view-versus-a-copy\n",
            "  # This is added back by InteractiveShellApp.init_path()\n",
            "/usr/local/lib/python3.7/dist-packages/ipykernel_launcher.py:12: SettingWithCopyWarning: \n",
            "A value is trying to be set on a copy of a slice from a DataFrame\n",
            "\n",
            "See the caveats in the documentation: https://pandas.pydata.org/pandas-docs/stable/user_guide/indexing.html#returning-a-view-versus-a-copy\n",
            "  if sys.path[0] == '':\n"
          ],
          "name": "stderr"
        },
        {
          "output_type": "execute_result",
          "data": {
            "text/html": [
              "<div>\n",
              "<style scoped>\n",
              "    .dataframe tbody tr th:only-of-type {\n",
              "        vertical-align: middle;\n",
              "    }\n",
              "\n",
              "    .dataframe tbody tr th {\n",
              "        vertical-align: top;\n",
              "    }\n",
              "\n",
              "    .dataframe thead th {\n",
              "        text-align: right;\n",
              "    }\n",
              "</style>\n",
              "<table border=\"1\" class=\"dataframe\">\n",
              "  <thead>\n",
              "    <tr style=\"text-align: right;\">\n",
              "      <th></th>\n",
              "      <th>group_name</th>\n",
              "      <th>job_postings_count</th>\n",
              "      <th>start_month</th>\n",
              "      <th>start_year</th>\n",
              "      <th>start_day</th>\n",
              "      <th>end_month</th>\n",
              "      <th>end_year</th>\n",
              "      <th>end_day</th>\n",
              "    </tr>\n",
              "  </thead>\n",
              "  <tbody>\n",
              "    <tr>\n",
              "      <th>13199</th>\n",
              "      <td>1</td>\n",
              "      <td>88</td>\n",
              "      <td>1</td>\n",
              "      <td>2020</td>\n",
              "      <td>5</td>\n",
              "      <td>1</td>\n",
              "      <td>2020</td>\n",
              "      <td>11</td>\n",
              "    </tr>\n",
              "    <tr>\n",
              "      <th>13200</th>\n",
              "      <td>1</td>\n",
              "      <td>75</td>\n",
              "      <td>1</td>\n",
              "      <td>2020</td>\n",
              "      <td>12</td>\n",
              "      <td>1</td>\n",
              "      <td>2020</td>\n",
              "      <td>18</td>\n",
              "    </tr>\n",
              "    <tr>\n",
              "      <th>13201</th>\n",
              "      <td>1</td>\n",
              "      <td>117</td>\n",
              "      <td>1</td>\n",
              "      <td>2020</td>\n",
              "      <td>19</td>\n",
              "      <td>1</td>\n",
              "      <td>2020</td>\n",
              "      <td>25</td>\n",
              "    </tr>\n",
              "    <tr>\n",
              "      <th>13202</th>\n",
              "      <td>1</td>\n",
              "      <td>126</td>\n",
              "      <td>1</td>\n",
              "      <td>2020</td>\n",
              "      <td>26</td>\n",
              "      <td>2</td>\n",
              "      <td>2020</td>\n",
              "      <td>1</td>\n",
              "    </tr>\n",
              "    <tr>\n",
              "      <th>13203</th>\n",
              "      <td>1</td>\n",
              "      <td>69</td>\n",
              "      <td>2</td>\n",
              "      <td>2020</td>\n",
              "      <td>2</td>\n",
              "      <td>2</td>\n",
              "      <td>2020</td>\n",
              "      <td>8</td>\n",
              "    </tr>\n",
              "    <tr>\n",
              "      <th>...</th>\n",
              "      <td>...</td>\n",
              "      <td>...</td>\n",
              "      <td>...</td>\n",
              "      <td>...</td>\n",
              "      <td>...</td>\n",
              "      <td>...</td>\n",
              "      <td>...</td>\n",
              "      <td>...</td>\n",
              "    </tr>\n",
              "    <tr>\n",
              "      <th>30855</th>\n",
              "      <td>3</td>\n",
              "      <td>5</td>\n",
              "      <td>11</td>\n",
              "      <td>2020</td>\n",
              "      <td>22</td>\n",
              "      <td>11</td>\n",
              "      <td>2020</td>\n",
              "      <td>28</td>\n",
              "    </tr>\n",
              "    <tr>\n",
              "      <th>30856</th>\n",
              "      <td>3</td>\n",
              "      <td>2</td>\n",
              "      <td>11</td>\n",
              "      <td>2020</td>\n",
              "      <td>29</td>\n",
              "      <td>12</td>\n",
              "      <td>2020</td>\n",
              "      <td>5</td>\n",
              "    </tr>\n",
              "    <tr>\n",
              "      <th>30857</th>\n",
              "      <td>3</td>\n",
              "      <td>6</td>\n",
              "      <td>12</td>\n",
              "      <td>2020</td>\n",
              "      <td>6</td>\n",
              "      <td>12</td>\n",
              "      <td>2020</td>\n",
              "      <td>12</td>\n",
              "    </tr>\n",
              "    <tr>\n",
              "      <th>30858</th>\n",
              "      <td>3</td>\n",
              "      <td>2</td>\n",
              "      <td>12</td>\n",
              "      <td>2020</td>\n",
              "      <td>13</td>\n",
              "      <td>12</td>\n",
              "      <td>2020</td>\n",
              "      <td>19</td>\n",
              "    </tr>\n",
              "    <tr>\n",
              "      <th>30859</th>\n",
              "      <td>3</td>\n",
              "      <td>10</td>\n",
              "      <td>12</td>\n",
              "      <td>2020</td>\n",
              "      <td>20</td>\n",
              "      <td>12</td>\n",
              "      <td>2020</td>\n",
              "      <td>26</td>\n",
              "    </tr>\n",
              "  </tbody>\n",
              "</table>\n",
              "<p>9378 rows × 8 columns</p>\n",
              "</div>"
            ],
            "text/plain": [
              "      group_name  job_postings_count  start_month  ...  end_month  end_year  end_day\n",
              "13199          1                  88            1  ...          1      2020       11\n",
              "13200          1                  75            1  ...          1      2020       18\n",
              "13201          1                 117            1  ...          1      2020       25\n",
              "13202          1                 126            1  ...          2      2020        1\n",
              "13203          1                  69            2  ...          2      2020        8\n",
              "...          ...                 ...          ...  ...        ...       ...      ...\n",
              "30855          3                   5           11  ...         11      2020       28\n",
              "30856          3                   2           11  ...         12      2020        5\n",
              "30857          3                   6           12  ...         12      2020       12\n",
              "30858          3                   2           12  ...         12      2020       19\n",
              "30859          3                  10           12  ...         12      2020       26\n",
              "\n",
              "[9378 rows x 8 columns]"
            ]
          },
          "metadata": {
            "tags": []
          },
          "execution_count": 216
        }
      ]
    },
    {
      "cell_type": "markdown",
      "metadata": {
        "id": "RrK286CecGRP"
      },
      "source": [
        "**Training/Test Split**"
      ]
    },
    {
      "cell_type": "code",
      "metadata": {
        "id": "_a36IocOcblY"
      },
      "source": [
        "X = newdf.drop('job_postings_count', axis=1) # exluding the job_postings_count column that our model will predict\r\n",
        "y = newdf['job_postings_count']"
      ],
      "execution_count": 247,
      "outputs": []
    },
    {
      "cell_type": "code",
      "metadata": {
        "id": "VobEHO17bNLW"
      },
      "source": [
        "from sklearn.model_selection import train_test_split"
      ],
      "execution_count": 248,
      "outputs": []
    },
    {
      "cell_type": "code",
      "metadata": {
        "id": "Iv5dLdz4ZVDW"
      },
      "source": [
        "X_train, X_test, y_train, y_test = train_test_split(X, y, test_size=0.3, random_state=101) #try 42"
      ],
      "execution_count": 249,
      "outputs": []
    },
    {
      "cell_type": "markdown",
      "metadata": {
        "id": "EwqMLSTMcwY3"
      },
      "source": [
        "**Scaling**"
      ]
    },
    {
      "cell_type": "code",
      "metadata": {
        "id": "Ii2qDOrBciq_"
      },
      "source": [
        "from sklearn.preprocessing import MinMaxScaler"
      ],
      "execution_count": 250,
      "outputs": []
    },
    {
      "cell_type": "code",
      "metadata": {
        "id": "94RqGeawcyMm"
      },
      "source": [
        "scaler = MinMaxScaler()"
      ],
      "execution_count": 251,
      "outputs": []
    },
    {
      "cell_type": "code",
      "metadata": {
        "id": "towvK5iLc7V4"
      },
      "source": [
        "X_train= scaler.fit_transform(X_train) # fit and transforming our train set simultaneously\r\n",
        "X_test = scaler.transform(X_test)"
      ],
      "execution_count": 252,
      "outputs": []
    },
    {
      "cell_type": "markdown",
      "metadata": {
        "id": "GnKVI6L4dyme"
      },
      "source": [
        "**Creating the model**"
      ]
    },
    {
      "cell_type": "code",
      "metadata": {
        "id": "km6vmEcTdjHp"
      },
      "source": [
        "from tensorflow.keras.models import Sequential\r\n",
        "from tensorflow.keras.layers import Dense, Activation\r\n",
        "from tensorflow.keras.optimizers import Adam"
      ],
      "execution_count": 253,
      "outputs": []
    },
    {
      "cell_type": "code",
      "metadata": {
        "colab": {
          "base_uri": "https://localhost:8080/"
        },
        "id": "zj47Ojhjd1M0",
        "outputId": "aea2f555-3103-413f-b292-26761fe75dca"
      },
      "source": [
        "X_train.shape, X_test.shape"
      ],
      "execution_count": 254,
      "outputs": [
        {
          "output_type": "execute_result",
          "data": {
            "text/plain": [
              "((6564, 7), (2814, 7))"
            ]
          },
          "metadata": {
            "tags": []
          },
          "execution_count": 254
        }
      ]
    },
    {
      "cell_type": "code",
      "metadata": {
        "id": "yLvUKcbpeLoY"
      },
      "source": [
        "model = Sequential()\r\n",
        "\r\n",
        "model.add(Dense(4,activation='relu'))\r\n",
        "model.add(Dense(4,activation='relu'))\r\n",
        "model.add(Dense(4,activation='relu'))\r\n",
        "model.add(Dense(4,activation='relu'))\r\n",
        "model.add(Dense(1))\r\n",
        "\r\n",
        "# compiling with Adam optimizer\r\n",
        "# choosing mean-squared error as the loss metric for the regression model \r\n",
        "model.compile(optimizer='adam',loss='mse')  "
      ],
      "execution_count": 255,
      "outputs": []
    },
    {
      "cell_type": "code",
      "metadata": {
        "colab": {
          "base_uri": "https://localhost:8080/"
        },
        "id": "Lt_miAkJeQhF",
        "outputId": "76e23f1a-a143-41bb-eb32-1db149b13307"
      },
      "source": [
        "model.build(X_train.shape)\r\n",
        "model.summary()"
      ],
      "execution_count": 256,
      "outputs": [
        {
          "output_type": "stream",
          "text": [
            "Model: \"sequential_5\"\n",
            "_________________________________________________________________\n",
            "Layer (type)                 Output Shape              Param #   \n",
            "=================================================================\n",
            "dense_25 (Dense)             (6564, 4)                 32        \n",
            "_________________________________________________________________\n",
            "dense_26 (Dense)             (6564, 4)                 20        \n",
            "_________________________________________________________________\n",
            "dense_27 (Dense)             (6564, 4)                 20        \n",
            "_________________________________________________________________\n",
            "dense_28 (Dense)             (6564, 4)                 20        \n",
            "_________________________________________________________________\n",
            "dense_29 (Dense)             (6564, 1)                 5         \n",
            "=================================================================\n",
            "Total params: 97\n",
            "Trainable params: 97\n",
            "Non-trainable params: 0\n",
            "_________________________________________________________________\n"
          ],
          "name": "stdout"
        }
      ]
    },
    {
      "cell_type": "markdown",
      "metadata": {
        "id": "i9BlLggOeskc"
      },
      "source": [
        "**Early Stopping**"
      ]
    },
    {
      "cell_type": "code",
      "metadata": {
        "id": "_ibV80V4eoMY"
      },
      "source": [
        "from tensorflow.keras.callbacks import EarlyStopping"
      ],
      "execution_count": 257,
      "outputs": []
    },
    {
      "cell_type": "code",
      "metadata": {
        "id": "Vv4g2_-uevOH"
      },
      "source": [
        "early_stop = EarlyStopping(monitor='val_loss',patience=2)"
      ],
      "execution_count": 258,
      "outputs": []
    },
    {
      "cell_type": "markdown",
      "metadata": {
        "id": "NmaD43HiezvM"
      },
      "source": [
        "**Training the model**"
      ]
    },
    {
      "cell_type": "code",
      "metadata": {
        "colab": {
          "base_uri": "https://localhost:8080/"
        },
        "id": "5urvCnt7exgs",
        "outputId": "6ec30c1d-67b2-49c3-88e3-c2ac905920ff"
      },
      "source": [
        "model.fit(x=X_train,\r\n",
        "          y=y_train.values,   # y_train.values instead of y_train to pass in a numpy array\r\n",
        "          validation_data=(X_test,y_test.values),\r\n",
        "          batch_size=128,\r\n",
        "          epochs=400,\r\n",
        "          callbacks=[early_stop])"
      ],
      "execution_count": 260,
      "outputs": [
        {
          "output_type": "stream",
          "text": [
            "Epoch 1/400\n",
            "52/52 [==============================] - 0s 4ms/step - loss: 136290.5469 - val_loss: 128535.9688\n",
            "Epoch 2/400\n",
            "52/52 [==============================] - 0s 3ms/step - loss: 136311.4688 - val_loss: 128521.2031\n",
            "Epoch 3/400\n",
            "52/52 [==============================] - 0s 2ms/step - loss: 136316.5312 - val_loss: 128525.3281\n",
            "Epoch 4/400\n",
            "52/52 [==============================] - 0s 2ms/step - loss: 136294.1094 - val_loss: 128533.1953\n"
          ],
          "name": "stdout"
        },
        {
          "output_type": "execute_result",
          "data": {
            "text/plain": [
              "<tensorflow.python.keras.callbacks.History at 0x7f03f88f59d0>"
            ]
          },
          "metadata": {
            "tags": []
          },
          "execution_count": 260
        }
      ]
    },
    {
      "cell_type": "code",
      "metadata": {
        "colab": {
          "base_uri": "https://localhost:8080/",
          "height": 283
        },
        "id": "St5OwLN1wR_o",
        "outputId": "58767835-ea94-4397-c5ca-a239418972fb"
      },
      "source": [
        "losses = pd.DataFrame(model.history.history)\r\n",
        "losses.plot()"
      ],
      "execution_count": 263,
      "outputs": [
        {
          "output_type": "execute_result",
          "data": {
            "text/plain": [
              "<matplotlib.axes._subplots.AxesSubplot at 0x7f03f93d2e50>"
            ]
          },
          "metadata": {
            "tags": []
          },
          "execution_count": 263
        },
        {
          "output_type": "display_data",
          "data": {
            "image/png": "[encoded data removed]",
            "text/plain": [
              "<Figure size 432x288 with 1 Axes>"
            ]
          },
          "metadata": {
            "tags": [],
            "needs_background": "light"
          }
        }
      ]
    },
    {
      "cell_type": "code",
      "metadata": {
        "id": "tugW8K78wjrT"
      },
      "source": [
        "from sklearn.metrics import r2_score"
      ],
      "execution_count": 264,
      "outputs": []
    },
    {
      "cell_type": "code",
      "metadata": {
        "id": "l80JZlRPwplj"
      },
      "source": [
        "predictions = model.predict(X_test)"
      ],
      "execution_count": 265,
      "outputs": []
    },
    {
      "cell_type": "code",
      "metadata": {
        "colab": {
          "base_uri": "https://localhost:8080/"
        },
        "id": "ecXAV_RowrhX",
        "outputId": "fa7e4e7a-a6e2-45db-8f77-260f715ba2a2"
      },
      "source": [
        "print(r2_score(y_test.values, predictions))"
      ],
      "execution_count": 266,
      "outputs": [
        {
          "output_type": "stream",
          "text": [
            "0.04581953515751502\n"
          ],
          "name": "stdout"
        }
      ]
    },
    {
      "cell_type": "code",
      "metadata": {
        "colab": {
          "base_uri": "https://localhost:8080/",
          "height": 392
        },
        "id": "GQQO5iOh3mJn",
        "outputId": "2fe8b4a7-caca-42f5-f5db-c5933f3df22c"
      },
      "source": [
        "plt.figure(figsize=(12, 6))\r\n",
        "\r\n",
        "# Our predictions\r\n",
        "plt.scatter(y_test,predictions)\r\n",
        "\r\n",
        "# Perfect predictions\r\n",
        "plt.plot(y_test,y_test,'r')"
      ],
      "execution_count": 267,
      "outputs": [
        {
          "output_type": "execute_result",
          "data": {
            "text/plain": [
              "[<matplotlib.lines.Line2D at 0x7f03f92a97d0>]"
            ]
          },
          "metadata": {
            "tags": []
          },
          "execution_count": 267
        },
        {
          "output_type": "display_data",
          "data": {
            "image/png": "[encoded data removed]",
            "text/plain": [
              "<Figure size 864x432 with 1 Axes>"
            ]
          },
          "metadata": {
            "tags": [],
            "needs_background": "light"
          }
        }
      ]
    },
    {
      "cell_type": "code",
      "metadata": {
        "colab": {
          "base_uri": "https://localhost:8080/",
          "height": 189
        },
        "id": "IWaV52Ve3tEo",
        "outputId": "c75dd91e-9878-47d3-86ea-2e98968b4769"
      },
      "source": [
        ""
      ],
      "execution_count": 268,
      "outputs": [
        {
          "output_type": "error",
          "ename": "ValueError",
          "evalue": "ignored",
          "traceback": [
            "\u001b[0;31m---------------------------------------------------------------------------\u001b[0m",
            "\u001b[0;31mValueError\u001b[0m                                Traceback (most recent call last)",
            "\u001b[0;32m<ipython-input-268-3a6a25d5a3c9>\u001b[0m in \u001b[0;36m<module>\u001b[0;34m()\u001b[0m\n\u001b[0;32m----> 1\u001b[0;31m \u001b[0merrors\u001b[0m \u001b[0;34m=\u001b[0m \u001b[0my_test\u001b[0m\u001b[0;34m.\u001b[0m\u001b[0mvalues\u001b[0m\u001b[0;34m.\u001b[0m\u001b[0mreshape\u001b[0m\u001b[0;34m(\u001b[0m\u001b[0;36m6480\u001b[0m\u001b[0;34m,\u001b[0m \u001b[0;36m1\u001b[0m\u001b[0;34m)\u001b[0m \u001b[0;34m-\u001b[0m \u001b[0mpredictions\u001b[0m\u001b[0;34m\u001b[0m\u001b[0;34m\u001b[0m\u001b[0m\n\u001b[0m\u001b[1;32m      2\u001b[0m \u001b[0msns\u001b[0m\u001b[0;34m.\u001b[0m\u001b[0mdistplot\u001b[0m\u001b[0;34m(\u001b[0m\u001b[0merrors\u001b[0m\u001b[0;34m)\u001b[0m\u001b[0;34m\u001b[0m\u001b[0;34m\u001b[0m\u001b[0m\n",
            "\u001b[0;31mValueError\u001b[0m: cannot reshape array of size 2814 into shape (6480,1)"
          ]
        }
      ]
    }
  ]
}